{
  "nbformat": 4,
  "nbformat_minor": 0,
  "metadata": {
    "colab": {
      "name": "Book Recommendation System Kaiwalya.ipynb",
      "provenance": [],
      "authorship_tag": "ABX9TyOA1/26B7Z9f1gXdN+t3mrj",
      "include_colab_link": true
    },
    "kernelspec": {
      "name": "python3",
      "display_name": "Python 3"
    },
    "language_info": {
      "name": "python"
    }
  },
  "cells": [
    {
      "cell_type": "markdown",
      "metadata": {
        "id": "view-in-github",
        "colab_type": "text"
      },
      "source": [
        "<a href=\"https://colab.research.google.com/github/KaiwalyaZ/Book-Recommendation-System/blob/main/Book_Recommendation_System_Kaiwalya.ipynb\" target=\"_parent\"><img src=\"https://colab.research.google.com/assets/colab-badge.svg\" alt=\"Open In Colab\"/></a>"
      ]
    },
    {
      "cell_type": "markdown",
      "metadata": {
        "id": "9hNetqluXfjl"
      },
      "source": [
        "# **INTRODUCTION-**\n"
      ]
    },
    {
      "cell_type": "markdown",
      "metadata": {
        "id": "sigrgajyhbcJ"
      },
      "source": [
        "Book recommendation is created and deployed in this approach of work, \n",
        "which helps in recommending books. Recommendation achieved by the \n",
        "users feedbacks and rating, this is the online which analyze the ratings, \n",
        "comments and reviews of user, negative positive nature of comments \n",
        "using opinion mining.\n",
        "Whenever we search a book and we get lots of book having same name \n",
        "at that time recommendation model helps a lot.\n",
        "Whenever we search a book and we get lots of book having same name \n",
        "at that time recommendation model helps a lot.\n"
      ]
    },
    {
      "cell_type": "markdown",
      "metadata": {
        "id": "hCuXcMaYoA7I"
      },
      "source": [
        "# **SCOPE OF THE PROJECT-**"
      ]
    },
    {
      "cell_type": "markdown",
      "metadata": {
        "id": "0xmvcWpLhq21"
      },
      "source": [
        "The main objective is to create a machine learning model to \n",
        "recommend relevant books to users based on popularity and \n",
        "user interests.\n",
        "In addition to the ML Model prediction, we also have taken \n",
        "into account the book recommendation for a totally new user.\n"
      ]
    },
    {
      "cell_type": "markdown",
      "metadata": {
        "id": "9Cb0J2voYIA2"
      },
      "source": [
        "# **PROBLEM STATEMENT-**"
      ]
    },
    {
      "cell_type": "markdown",
      "metadata": {
        "id": "cFd8ev9X4vY1"
      },
      "source": [
        "During the last few decades, with the rise of Youtube, Amazon, Netflix, and many other such\n",
        "web services, recommender systems have taken more and more place in our lives. From\n",
        "e-commerce (suggest to buyers articles that could interest them) to online advertisement\n",
        "(suggest to users the right contents, matching their preferences), recommender systems are\n",
        "today unavoidable in our daily online journeys.\n",
        "In a very general way, recommender systems are algorithms aimed at suggesting relevant\n",
        "items to users (items being movies to watch, text to read, products to buy, or anything else\n",
        "depending on industries).<br>\n",
        "Recommender systems are really critical in some industries as they can generate a huge\n",
        "amount of income when they are efficient or also be a way to stand out significantly from\n",
        "competitors. The main objective is to create a book recommendation system for users."
      ]
    },
    {
      "cell_type": "markdown",
      "metadata": {
        "id": "_xWDvE1757SX"
      },
      "source": [
        "## <b> The Dataset </b>\n",
        "\n",
        "The Book-Crossing dataset comprises 3 files.<br>\n",
        "● Users :<br>\n",
        "Contains the users. Note that user IDs (User-ID) have been anonymized and map to\n",
        "integers. Demographic data is provided (Location, Age) if available. Otherwise, these\n",
        "fields contain NULL values.<br>\n",
        "● Books : <br>\n",
        "Books are identified by their respective ISBN. Invalid ISBNs have already been removed\n",
        "from the dataset. Moreover, some content-based information is given (Book-Title,\n",
        "Book-Author, Year-Of-Publication, Publisher), obtained from Amazon Web\n",
        "Services. Note that in the case of several authors, only the first is provided. URLs linking\n",
        "to cover images are also given, appearing in three different flavors (Image-URL-S,\n",
        "Image-URL-M, Image-URL-L), i.e., small, medium, large. These URLs point to the\n",
        "Amazon website.<br>\n",
        "● Ratings :<br> \n",
        "Contains the book rating information. Ratings (Book-Rating) are either explicit,\n",
        "expressed on a scale from 1-10 (higher values denoting higher appreciation), or implicit,\n",
        "expressed by 0."
      ]
    },
    {
      "cell_type": "markdown",
      "metadata": {
        "id": "c43oGZfYw3BH"
      },
      "source": [
        "# Data Prepping<br>"
      ]
    },
    {
      "cell_type": "markdown",
      "metadata": {
        "id": "luQ5QklKYbnR"
      },
      "source": [
        "###**Mount A Drive-**"
      ]
    },
    {
      "cell_type": "code",
      "execution_count": 1,
      "metadata": {
        "colab": {
          "base_uri": "https://localhost:8080/"
        },
        "id": "1iY8Yt3OR8Ud",
        "outputId": "5e0f6de3-bd64-45ab-d94a-b3e7f82b7f72"
      },
      "outputs": [
        {
          "output_type": "stream",
          "name": "stdout",
          "text": [
            "Mounted at /content/drive\n"
          ]
        }
      ],
      "source": [
        "from google.colab import drive\n",
        "drive.mount('/content/drive')"
      ]
    },
    {
      "cell_type": "markdown",
      "metadata": {
        "id": "CKmN_XBDbwGt"
      },
      "source": [
        "### **Importing the libraries** "
      ]
    },
    {
      "cell_type": "code",
      "execution_count": 2,
      "metadata": {
        "id": "m2w_ho8y-Nko"
      },
      "outputs": [],
      "source": [
        "##Importing libraries for Exploratory data Analysis\n",
        "import pandas as pd  # To upload the large data set and wrangling the data.\n",
        "import sys\n",
        "import numpy as np  # For some math operations on arrays in predictions.\n",
        "import matplotlib.pyplot as plt  # Used for visualization of dataset.\n",
        "import seaborn as sns  # Used for visualization of dataset.\n",
        "import random\n",
        "# This is to supress the warning messages (if any) generated in our code\n",
        "import warnings\n",
        "warnings.filterwarnings('ignore')\n"
      ]
    },
    {
      "cell_type": "code",
      "execution_count": 4,
      "metadata": {
        "id": "7d9oFOTCSAHY"
      },
      "outputs": [],
      "source": [
        "#User data\n",
        "file_path = (\"/content/drive/MyDrive/Book Recommendation github/Users.csv\")\n",
        "users = pd.read_csv(file_path)"
      ]
    },
    {
      "cell_type": "code",
      "execution_count": 5,
      "metadata": {
        "id": "KOvBgzwR_F0c"
      },
      "outputs": [],
      "source": [
        "#Books data\n",
        "file_path = (\"/content/drive/MyDrive/Book Recommendation github/Books.csv\")\n",
        "books = pd.read_csv(file_path)"
      ]
    },
    {
      "cell_type": "code",
      "execution_count": 6,
      "metadata": {
        "id": "3jQSNc-1_a7j"
      },
      "outputs": [],
      "source": [
        "#Ratings Data\n",
        "file_path = (\"/content/drive/MyDrive/Book Recommendation github/Ratings.csv\")\n",
        "ratings = pd.read_csv(file_path)"
      ]
    }
  ]
}